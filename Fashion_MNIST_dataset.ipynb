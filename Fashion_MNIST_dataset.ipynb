{
  "nbformat": 4,
  "nbformat_minor": 0,
  "metadata": {
    "colab": {
      "provenance": [],
      "authorship_tag": "ABX9TyPiQS/ZZWbWM+I+tYy2/+bi",
      "include_colab_link": true
    },
    "kernelspec": {
      "name": "python3",
      "display_name": "Python 3"
    },
    "language_info": {
      "name": "python"
    }
  },
  "cells": [
    {
      "cell_type": "markdown",
      "metadata": {
        "id": "view-in-github",
        "colab_type": "text"
      },
      "source": [
        "<a href=\"https://colab.research.google.com/github/BongGuenJun/Python/blob/main-branch/Fashion_MNIST_dataset.ipynb\" target=\"_parent\"><img src=\"https://colab.research.google.com/assets/colab-badge.svg\" alt=\"Open In Colab\"/></a>"
      ]
    },
    {
      "cell_type": "code",
      "source": [
        "from tensorflow.keras.models import Sequential\n",
        "from tensorflow.keras.layers import Dense, Dropout, Flatten, Conv2D, MaxPooling2D\n",
        "from tensorflow.keras.callbacks import ModelCheckpoint,EarlyStopping\n",
        "from tensorflow.keras.datasets import mnist\n",
        "from tensorflow.keras.utils import to_categorical\n",
        "import tensorflow as tf\n",
        "import matplotlib.pyplot as plt\n",
        "import numpy as np\n",
        "\n",
        "import os\n",
        "\n",
        "\n",
        "fashion_mnist = tf.keras.datasets.fashion_mnist\n",
        "\n",
        "(x_train, y_train), (x_test, y_test) = fashion_mnist.load_data()"
      ],
      "metadata": {
        "id": "86jcOendiOYL"
      },
      "execution_count": null,
      "outputs": []
    },
    {
      "cell_type": "code",
      "source": [
        "type(x_train)"
      ],
      "metadata": {
        "colab": {
          "base_uri": "https://localhost:8080/"
        },
        "id": "RaIRIPWN92ug",
        "outputId": "f8f8c1be-2587-4d57-83b8-7d54b99629c9"
      },
      "execution_count": null,
      "outputs": [
        {
          "output_type": "execute_result",
          "data": {
            "text/plain": [
              "numpy.ndarray"
            ]
          },
          "metadata": {},
          "execution_count": 5
        }
      ]
    },
    {
      "cell_type": "code",
      "source": [
        "\n",
        "\n",
        "print(x_train.shape)"
      ],
      "metadata": {
        "colab": {
          "base_uri": "https://localhost:8080/"
        },
        "id": "mTIdDMQ292yS",
        "outputId": "8c497708-e05f-4161-c944-3d9e6577a3a2"
      },
      "execution_count": null,
      "outputs": [
        {
          "output_type": "stream",
          "name": "stdout",
          "text": [
            "(60000, 28, 28)\n"
          ]
        }
      ]
    },
    {
      "cell_type": "code",
      "source": [
        "\n",
        "plt.imshow(x_train[7], cmap='Greys')\n",
        "plt.show()"
      ],
      "metadata": {
        "colab": {
          "base_uri": "https://localhost:8080/",
          "height": 265
        },
        "id": "manPJ__pikMj",
        "outputId": "d98a84dc-86b4-4a40-9c8c-e657ce06a9ba"
      },
      "execution_count": null,
      "outputs": [
        {
          "output_type": "display_data",
          "data": {
            "text/plain": [
              "<Figure size 432x288 with 1 Axes>"
            ],
            "image/png": "[encoded data removed]"
          },
          "metadata": {
            "needs_background": "light"
          }
        }
      ]
    },
    {
      "cell_type": "code",
      "source": [
        "import sys\n",
        "\n",
        "for x in x_train[7]:\n",
        "    for i in x:\n",
        "        sys.stdout.write(\"%-3s\" % i)\n",
        "    sys.stdout.write('\\n')\n",
        "     "
      ],
      "metadata": {
        "colab": {
          "base_uri": "https://localhost:8080/"
        },
        "id": "blYc_jBh92Cf",
        "outputId": "f0ce471e-ac48-4b8d-b8f1-6bcda8f35005"
      },
      "execution_count": null,
      "outputs": [
        {
          "output_type": "stream",
          "name": "stdout",
          "text": [
            "0  0  0  0  0  1  1  0  0  0  0  63 28 0  0  0  33 85 0  0  0  0  0  0  0  0  0  0  \n",
            "0  0  0  0  0  2  0  0  28 1262412552552552552552552522481110  0  0  2  0  0  0  0  \n",
            "0  0  0  0  2  0  0  2062442512412302382212052302402302392512331650  0  2  0  0  0  \n",
            "0  0  0  1  0  0  1992512282342332362352452472372342392302302352551760  0  1  0  0  \n",
            "0  0  0  0  0  81 25422622823923723623423223323523523623923723322524673 0  0  0  0  \n",
            "0  0  3  0  0  25523523922323423823623723623523523523523623523423023125524 0  4  0  \n",
            "0  0  0  0  17723922325422323223423423623623523523523523523423123322224688 0  1  0  \n",
            "0  0  0  0  2342392292552202322332322342352352352352352342332322302282541400  0  0  \n",
            "0  0  0  0  2252402262552212272322282312302282292312302282282322232292442310  0  0  \n",
            "0  0  0  47 2452312342492292212292252292272262272282272282292282242462402270  0  0  \n",
            "0  0  0  51 2482302452462302262302272302292282292302282282312252272422372550  0  0  \n",
            "0  0  0  10125322924724122123322822722922822722823022723023422522925122924355 0  0  \n",
            "0  0  0  1022552272422412212342232302282312292312312272292412192362542252501670  0  \n",
            "0  0  0  90 2552292362312222362232312292312292312312282242452182432392272441750  0  \n",
            "0  0  0  2122502252362492292372232312292312292312312302212432252482302362342551  0  \n",
            "0  0  0  2452432322432182282382222312292312292312312302222372372522292392402230  0  \n",
            "0  0  27 2552352422372162302362242292272332332332302282242302452472212432392520  0  \n",
            "0  0  88 2552322482362082342312232272262332322322302282242242352332342472352550  0  \n",
            "0  0  83 2552252502372242362292252252272352292312302302272212272212392502312550  0  \n",
            "0  0  20 2552242482342262322222252242312382262302282302302212292252442462302550  0  \n",
            "0  0  95 2552182422552322262242292282282322282292312332322262212242472442282550  0  \n",
            "0  0  16725521323525581 24525123823623022923022923023123824025519225523922825523 0  \n",
            "0  0  1732422242332550  13622623925522923623623423322825124820081 2552372252551010  \n",
            "0  0  1722552262332550  0  0  0  0  8  21 22 21 20 14 0  0  0  0  2552382292461780  \n",
            "0  0  16 2552362382520  0  0  0  0  0  0  0  0  0  0  0  0  0  0  2222442222541190  \n",
            "0  0  0  30 2282421630  0  0  0  2  4  6  5  5  4  4  2  0  1  0  1512512351800  0  \n",
            "0  0  0  0  2342551910  11 0  0  0  0  0  0  0  0  0  0  0  4  0  10324624772 0  0  \n",
            "0  0  0  1  95 77 52 0  4  0  0  0  0  0  0  0  0  0  0  0  3  0  82 23723170 0  0  \n"
          ]
        }
      ]
    },
    {
      "cell_type": "code",
      "source": [
        "\n",
        "X_train = x_train.reshape(x_train.shape[0], 28, 28, 1).astype('float32') / 255\n",
        "X_test = x_test.reshape(x_test.shape[0], 28, 28, 1).astype('float32') / 255\n",
        "y_train = to_categorical(y_train)\n",
        "y_test = to_categorical(y_test)\n",
        "\n",
        "     "
      ],
      "metadata": {
        "id": "3kJa0oypilq-"
      },
      "execution_count": null,
      "outputs": []
    },
    {
      "cell_type": "code",
      "source": [
        "y_train[257]"
      ],
      "metadata": {
        "colab": {
          "base_uri": "https://localhost:8080/"
        },
        "id": "EdjxTGWO-OCK",
        "outputId": "8787c8a2-3d32-4914-99a8-663de3182424"
      },
      "execution_count": null,
      "outputs": [
        {
          "output_type": "execute_result",
          "data": {
            "text/plain": [
              "array([0., 0., 0., 0., 0., 1., 0., 0., 0., 0.], dtype=float32)"
            ]
          },
          "metadata": {},
          "execution_count": 13
        }
      ]
    },
    {
      "cell_type": "code",
      "source": [
        "type(y_train)"
      ],
      "metadata": {
        "colab": {
          "base_uri": "https://localhost:8080/"
        },
        "id": "-658SDGj-S-x",
        "outputId": "033b87ab-45fb-4be3-917c-88ee1e336c3d"
      },
      "execution_count": null,
      "outputs": [
        {
          "output_type": "execute_result",
          "data": {
            "text/plain": [
              "numpy.ndarray"
            ]
          },
          "metadata": {},
          "execution_count": 15
        }
      ]
    },
    {
      "cell_type": "code",
      "source": [
        "model = Sequential()\n",
        "model.add(Conv2D(32, kernel_size=(4, 4), input_shape=(28, 28, 1), activation='relu'))\n",
        "model.add(Conv2D(64, (3, 3), activation='relu'))\n",
        "model.add(MaxPooling2D(pool_size=(3,3)))\n",
        "model.add(Dropout(0.5))\n",
        "model.add(Flatten())\n",
        "model.add(Dense(128,  activation='relu'))\n",
        "model.add(Dropout(0.1))\n",
        "model.add(Dense(10, activation='softmax'))\n",
        "\n",
        "\n",
        "model.compile(loss='categorical_crossentropy',\n",
        "              optimizer='adam',\n",
        "              metrics=['accuracy'])\n",
        "\n",
        "\n",
        "#MODEL_DIR = './data/model/'\n",
        "#if not os.path.exists(MODEL_DIR):\n",
        "#    os.mkdir(MODEL_DIR)\n",
        "\n",
        "modelpath=\"./data/model/MNIST_CNN.hdf5\"\n",
        "\n",
        "\n",
        "checkpointer = ModelCheckpoint(filepath=modelpath, monitor='val_loss', verbose=1, save_best_only=True)\n",
        "early_stopping_callback = EarlyStopping(monitor='val_loss', patience=10)\n",
        "\n",
        "\n",
        "history = model.fit(x_train, y_train, validation_split=0.25, epochs=30, batch_size=200, verbose=0, callbacks=[early_stopping_callback,checkpointer])\n",
        "\n",
        "print(\"\\n Test Accuracy: %.4f\" % (model.evaluate(X_test, y_test)[1]))\n",
        "\n"
      ],
      "metadata": {
        "colab": {
          "base_uri": "https://localhost:8080/"
        },
        "id": "0YEpf_gP-YC3",
        "outputId": "3cf2f5f0-fe5e-4a6d-9cb2-d7d391db7b25"
      },
      "execution_count": null,
      "outputs": [
        {
          "output_type": "stream",
          "name": "stdout",
          "text": [
            "\n",
            "Epoch 1: val_loss improved from inf to 0.42660, saving model to ./data/model/MNIST_CNN.hdf5\n",
            "\n",
            "Epoch 2: val_loss improved from 0.42660 to 0.37099, saving model to ./data/model/MNIST_CNN.hdf5\n",
            "\n",
            "Epoch 3: val_loss improved from 0.37099 to 0.34494, saving model to ./data/model/MNIST_CNN.hdf5\n",
            "\n",
            "Epoch 4: val_loss improved from 0.34494 to 0.32399, saving model to ./data/model/MNIST_CNN.hdf5\n",
            "\n",
            "Epoch 5: val_loss improved from 0.32399 to 0.31180, saving model to ./data/model/MNIST_CNN.hdf5\n",
            "\n",
            "Epoch 6: val_loss improved from 0.31180 to 0.30455, saving model to ./data/model/MNIST_CNN.hdf5\n",
            "\n",
            "Epoch 7: val_loss improved from 0.30455 to 0.28999, saving model to ./data/model/MNIST_CNN.hdf5\n",
            "\n",
            "Epoch 8: val_loss improved from 0.28999 to 0.28322, saving model to ./data/model/MNIST_CNN.hdf5\n",
            "\n",
            "Epoch 9: val_loss improved from 0.28322 to 0.27650, saving model to ./data/model/MNIST_CNN.hdf5\n",
            "\n",
            "Epoch 10: val_loss improved from 0.27650 to 0.27012, saving model to ./data/model/MNIST_CNN.hdf5\n",
            "\n",
            "Epoch 11: val_loss did not improve from 0.27012\n",
            "\n",
            "Epoch 12: val_loss improved from 0.27012 to 0.25793, saving model to ./data/model/MNIST_CNN.hdf5\n",
            "\n",
            "Epoch 13: val_loss improved from 0.25793 to 0.25675, saving model to ./data/model/MNIST_CNN.hdf5\n",
            "\n",
            "Epoch 14: val_loss did not improve from 0.25675\n",
            "\n",
            "Epoch 15: val_loss improved from 0.25675 to 0.25521, saving model to ./data/model/MNIST_CNN.hdf5\n",
            "\n",
            "Epoch 16: val_loss did not improve from 0.25521\n",
            "\n",
            "Epoch 17: val_loss improved from 0.25521 to 0.25360, saving model to ./data/model/MNIST_CNN.hdf5\n",
            "\n",
            "Epoch 18: val_loss improved from 0.25360 to 0.25023, saving model to ./data/model/MNIST_CNN.hdf5\n",
            "\n",
            "Epoch 19: val_loss did not improve from 0.25023\n",
            "\n",
            "Epoch 20: val_loss improved from 0.25023 to 0.25006, saving model to ./data/model/MNIST_CNN.hdf5\n",
            "\n",
            "Epoch 21: val_loss improved from 0.25006 to 0.24453, saving model to ./data/model/MNIST_CNN.hdf5\n",
            "\n",
            "Epoch 22: val_loss did not improve from 0.24453\n",
            "\n",
            "Epoch 23: val_loss improved from 0.24453 to 0.24267, saving model to ./data/model/MNIST_CNN.hdf5\n",
            "\n",
            "Epoch 24: val_loss did not improve from 0.24267\n",
            "\n",
            "Epoch 25: val_loss did not improve from 0.24267\n",
            "\n",
            "Epoch 26: val_loss did not improve from 0.24267\n",
            "\n",
            "Epoch 27: val_loss did not improve from 0.24267\n",
            "\n",
            "Epoch 28: val_loss did not improve from 0.24267\n",
            "\n",
            "Epoch 29: val_loss did not improve from 0.24267\n",
            "\n",
            "Epoch 30: val_loss did not improve from 0.24267\n",
            "313/313 [==============================] - 7s 21ms/step - loss: 2.2830 - accuracy: 0.1728\n",
            "\n",
            " Test Accuracy: 0.1728\n"
          ]
        }
      ]
    },
    {
      "cell_type": "code",
      "source": [
        "y_vloss = history.history['val_loss']\n",
        "y_loss = history.history['loss']\n",
        "\n",
        "x_len = np.arange(len(y_loss))\n",
        "plt.plot(x_len, y_vloss, marker='.', c=\"red\", label='Testset_loss')\n",
        "plt.plot(x_len, y_loss, marker='.', c=\"blue\", label='Trainset_loss')\n",
        "\n",
        "\n",
        "plt.legend(loc='upper right')\n",
        "plt.grid()\n",
        "plt.xlabel('epoch')\n",
        "plt.ylabel('loss')\n",
        "plt.show()\n",
        "     "
      ],
      "metadata": {
        "colab": {
          "base_uri": "https://localhost:8080/",
          "height": 279
        },
        "id": "yaG7qR5XoAyd",
        "outputId": "57193434-c892-4264-e1f6-0bb9067a4dfc"
      },
      "execution_count": null,
      "outputs": [
        {
          "output_type": "display_data",
          "data": {
            "text/plain": [
              "<Figure size 432x288 with 1 Axes>"
            ],
            "image/png": "[encoded data removed]"
          },
          "metadata": {
            "needs_background": "light"
          }
        }
      ]
    }
  ]
}